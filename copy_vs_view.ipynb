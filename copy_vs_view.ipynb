{
 "cells": [
  {
   "cell_type": "code",
   "execution_count": 1,
   "metadata": {},
   "outputs": [
    {
     "name": "stdout",
     "output_type": "stream",
     "text": [
      "Original Array: [99  2  3  4  5]\n",
      "View Array (shares data): [99  2  3  4  5]\n",
      "Copy Array (independent): [1 2 3 4 5]\n",
      "\n",
      "After modifying the view:\n",
      "Original Array (affected by view modification): [99 77  3  4  5]\n",
      "View Array: [99 77  3  4  5]\n",
      "Copy Array (unchanged): [1 2 3 4 5]\n"
     ]
    }
   ],
   "source": [
    "import numpy as np\n",
    "\n",
    "# Original array\n",
    "arr = np.array([1, 2, 3, 4, 5])\n",
    "\n",
    "# Creating a view\n",
    "view_arr = arr.view()\n",
    "\n",
    "# Creating a copy\n",
    "copy_arr = arr.copy()\n",
    "\n",
    "# Modifying the original array\n",
    "arr[0] = 99\n",
    "\n",
    "# Printing results\n",
    "print(\"Original Array:\", arr)\n",
    "print(\"View Array (shares data):\", view_arr)\n",
    "print(\"Copy Array (independent):\", copy_arr)\n",
    "\n",
    "# Modifying the view\n",
    "view_arr[1] = 77\n",
    "\n",
    "print(\"\\nAfter modifying the view:\")\n",
    "print(\"Original Array (affected by view modification):\", arr)\n",
    "print(\"View Array:\", view_arr)\n",
    "print(\"Copy Array (unchanged):\", copy_arr)\n"
   ]
  }
 ],
 "metadata": {
  "kernelspec": {
   "display_name": "base",
   "language": "python",
   "name": "python3"
  },
  "language_info": {
   "codemirror_mode": {
    "name": "ipython",
    "version": 3
   },
   "file_extension": ".py",
   "mimetype": "text/x-python",
   "name": "python",
   "nbconvert_exporter": "python",
   "pygments_lexer": "ipython3",
   "version": "3.12.7"
  }
 },
 "nbformat": 4,
 "nbformat_minor": 2
}
