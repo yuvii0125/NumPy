{
 "cells": [
  {
   "cell_type": "markdown",
   "metadata": {},
   "source": [
    "###### 1. int8:  8-bit signed integer (-128 to 127)\n",
    "###### 2. int16:  16-bit signed integer (-32,768 to 32,767)\n",
    "###### 3. int32:  32-bit signed integer (-2,147,483,648 to 2,147,483,647)\n",
    "###### 4. int64:  64-bit signed integer (large range)\n",
    "###### 5. uint8:  8-bit unsigned integer (0 to 255)\n",
    "###### 6. uint16:  16-bit unsigned integer (0 to 65,535)\n",
    "###### 7. uint32:  32-bit unsigned integer (0 to 4,294,967,295)\n",
    "###### 8. uint64:  64-bit unsigned integer (large range of positive values)\n",
    "###### 9. float16:  Half-precision floating-point (16-bit)\n",
    "###### 10. float32:  Single-precision floating-point (32-bit)\n",
    "###### 11. float64:  Double-precision floating-point (64-bit)\n",
    "###### 12. complex64:  Complex number (2 x 32-bit floats)\n",
    "###### 13. complex128:  Complex number (2 x 64-bit floats)\n",
    "###### 14. bool_:  Boolean values (True or False)\n",
    "###### 15. S:  Fixed-width string (e.g., 'S10')\n",
    "###### 16. U:  Fixed-width Unicode string (e.g., 'U10')\n",
    "###### 17. object:  Object type for Python objects (e.g., lists, dicts)\n",
    "###### 18. datetime64:  Date and time representation (e.g., '2023-01-01')\n",
    "###### 19. timedelta64:  Time difference representation (e.g., '1 day')"
   ]
  },
  {
   "cell_type": "code",
   "execution_count": 14,
   "metadata": {},
   "outputs": [],
   "source": [
    "import numpy as np"
   ]
  },
  {
   "cell_type": "code",
   "execution_count": 15,
   "metadata": {},
   "outputs": [
    {
     "name": "stdout",
     "output_type": "stream",
     "text": [
      "Data type:  int64\n"
     ]
    }
   ],
   "source": [
    "var = np.array([1,2,3])\n",
    "print(\"Data type: \",var.dtype)"
   ]
  },
  {
   "cell_type": "code",
   "execution_count": 16,
   "metadata": {},
   "outputs": [
    {
     "name": "stdout",
     "output_type": "stream",
     "text": [
      "Data type:  float64\n"
     ]
    }
   ],
   "source": [
    "var1 = np.array([1.1,1.2,1.3])\n",
    "print(\"Data type: \",var1.dtype)"
   ]
  },
  {
   "cell_type": "code",
   "execution_count": 17,
   "metadata": {},
   "outputs": [
    {
     "name": "stdout",
     "output_type": "stream",
     "text": [
      "Data type:  <U1\n",
      "Data type:  <U1\n"
     ]
    }
   ],
   "source": [
    "var2 = np.array([\"A\",\"B\"])\n",
    "var3 = np.array([\"a\",\"b\",\"c\" ,\"D\"])\n",
    "print(\"Data type: \",var2.dtype) \n",
    "print(\"Data type: \",var3.dtype)"
   ]
  },
  {
   "cell_type": "code",
   "execution_count": 18,
   "metadata": {},
   "outputs": [
    {
     "name": "stdout",
     "output_type": "stream",
     "text": [
      "Data type:  <U21\n"
     ]
    }
   ],
   "source": [
    "var4 = np.array([\"a\",\"b\",\"c\" ,\"D\",1,2,3,])\n",
    "print(\"Data type: \",var4.dtype)"
   ]
  },
  {
   "cell_type": "markdown",
   "metadata": {},
   "source": [
    "### Datatype Conversion"
   ]
  },
  {
   "cell_type": "code",
   "execution_count": 1,
   "metadata": {},
   "outputs": [
    {
     "name": "stdout",
     "output_type": "stream",
     "text": [
      "Original arrays and conversions:\n",
      "Original int8: [1 2 3] -> Converted to int32: [1 2 3]\n",
      "Original uint8: [1 2 3] -> Converted to uint16: [1 2 3]\n",
      "Original float16: [1. 2. 3.] -> Converted to float32: [1. 2. 3.]\n",
      "Original bool: [1 0 1] -> Converted to int: [1 0 1]\n",
      "Original object: [1 'apple' list([2, 3])] -> Converted to string: ['1' 'apple' '[2, 3]']\n",
      "Original datetime: ['2023-01-01' '2024-01-01']\n",
      "Original timedelta: [1 2]\n"
     ]
    }
   ],
   "source": [
    "import numpy as np\n",
    "\n",
    "# Creating sample arrays for demonstration\n",
    "arr_int8 = np.array([1, 2, 3], dtype='i1')      # int8 (i1)\n",
    "arr_int16 = np.array([1, 2, 3], dtype='i2')     # int16 (i2)\n",
    "arr_int32 = np.array([1, 2, 3], dtype='i4')     # int32 (i4)\n",
    "arr_int64 = np.array([1, 2, 3], dtype='i8')     # int64 (i8)\n",
    "\n",
    "arr_uint8 = np.array([1, 2, 3], dtype='u1')     # uint8 (u1)\n",
    "arr_uint16 = np.array([1, 2, 3], dtype='u2')    # uint16 (u2)\n",
    "arr_uint32 = np.array([1, 2, 3], dtype='u4')    # uint32 (u4)\n",
    "arr_uint64 = np.array([1, 2, 3], dtype='u8')    # uint64 (u8)\n",
    "\n",
    "arr_float16 = np.array([1.0, 2.0, 3.0], dtype='f2')  # float16 (f2)\n",
    "arr_float32 = np.array([1.0, 2.0, 3.0], dtype='f4')  # float32 (f4)\n",
    "arr_float64 = np.array([1.0, 2.0, 3.0], dtype='f8')  # float64 (f8)\n",
    "\n",
    "arr_bool = np.array([True, False, True], dtype='b')    # bool (b)\n",
    "\n",
    "arr_object = np.array([1, 'apple', [2, 3]], dtype='O') # object (O)\n",
    "arr_complex = np.array([1+2j, 3+4j], dtype='c')        # complex (c)\n",
    "\n",
    "# For datetime64 and timedelta64, specifying time units correctly\n",
    "arr_datetime = np.array(['2023-01-01', '2024-01-01'], dtype='M8[D]')  # datetime64 (M8[D])\n",
    "arr_timedelta = np.array([1, 2], dtype='m8[D]')                  # timedelta64 (m8[D])\n",
    "\n",
    "# Convert arr_object to string (handle nested lists by converting each element to string)\n",
    "arr_object_to_string = np.array([str(x) for x in arr_object], dtype='U10')  # Convert object to string (max 10 chars)\n",
    "\n",
    "# Conversion examples using shorthand characters\n",
    "arr_int16_to_int32 = arr_int16.astype('i4')  # Convert int16 to int32\n",
    "arr_uint8_to_uint16 = arr_uint8.astype('u2')  # Convert uint8 to uint16\n",
    "arr_float16_to_float32 = arr_float16.astype('f4')  # Convert float16 to float32\n",
    "arr_bool_to_int = arr_bool.astype('i')  # Convert bool to int\n",
    "\n",
    "# Displaying the results\n",
    "print(\"Original arrays and conversions:\")\n",
    "print(\"Original int8:\", arr_int8, \"-> Converted to int32:\", arr_int16_to_int32)\n",
    "print(\"Original uint8:\", arr_uint8, \"-> Converted to uint16:\", arr_uint8_to_uint16)\n",
    "print(\"Original float16:\", arr_float16, \"-> Converted to float32:\", arr_float16_to_float32)\n",
    "print(\"Original bool:\", arr_bool, \"-> Converted to int:\", arr_bool_to_int)\n",
    "print(\"Original object:\", arr_object, \"-> Converted to string:\", arr_object_to_string)\n",
    "\n",
    "# Showing datetime and timedelta\n",
    "print(\"Original datetime:\", arr_datetime)\n",
    "print(\"Original timedelta:\", arr_timedelta)\n"
   ]
  },
  {
   "cell_type": "markdown",
   "metadata": {},
   "source": [
    "#### Feature||\tdtype\t|astype()\n",
    "#### Purpose\t||Check the current data type of the array|\tConvert the array to a different data type\n",
    "#### Modifies|| Array\tDoes not modify the array\tR|eturns a new array with a converted data type\n",
    "#### Type\t||Attribute|\tMethod\n",
    "#### Usage\t||Used for inspecting the data type\t|Used for converting to a new data type\n",
    "#### Returns\t||The data type of the array|\tA new array with the desired data type"
   ]
  },
  {
   "cell_type": "markdown",
   "metadata": {},
   "source": []
  }
 ],
 "metadata": {
  "kernelspec": {
   "display_name": "base",
   "language": "python",
   "name": "python3"
  },
  "language_info": {
   "codemirror_mode": {
    "name": "ipython",
    "version": 3
   },
   "file_extension": ".py",
   "mimetype": "text/x-python",
   "name": "python",
   "nbconvert_exporter": "python",
   "pygments_lexer": "ipython3",
   "version": "3.12.7"
  }
 },
 "nbformat": 4,
 "nbformat_minor": 2
}
