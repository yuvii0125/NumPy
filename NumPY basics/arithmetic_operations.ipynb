{
 "cells": [
  {
   "cell_type": "markdown",
   "metadata": {},
   "source": [
    "## Arithmetic Operation in 1-d Array"
   ]
  },
  {
   "cell_type": "code",
   "execution_count": 28,
   "metadata": {},
   "outputs": [
    {
     "name": "stdout",
     "output_type": "stream",
     "text": [
      "Min: 2, Max: 12, Sum: 38, Mean: 6.333333333333333, Median: 6.0, Std: 3.4480268109295333, Var: 11.888888888888888\n"
     ]
    }
   ],
   "source": [
    "import numpy as np\n",
    "\n",
    "# Your data\n",
    "data = np.array([3, 7, 2, 9, 12, 5])  # Replace with your array\n",
    "\n",
    "# Calculations\n",
    "min_val = data.min()\n",
    "max_val = data.max()\n",
    "sum_val = data.sum()\n",
    "mean_val = data.mean()\n",
    "median_val = np.median(data)\n",
    "std_val = data.std()\n",
    "var_val = data.var()\n",
    "\n",
    "print(f\"Min: {min_val}, Max: {max_val}, Sum: {sum_val}, Mean: {mean_val}, Median: {median_val}, Std: {std_val}, Var: {var_val}\")\n"
   ]
  },
  {
   "cell_type": "markdown",
   "metadata": {},
   "source": [
    "## Addition"
   ]
  },
  {
   "cell_type": "code",
   "execution_count": 11,
   "metadata": {},
   "outputs": [
    {
     "name": "stdout",
     "output_type": "stream",
     "text": [
      "[3 4 5]\n"
     ]
    }
   ],
   "source": [
    "import numpy as np\n",
    "var = np.array([1,2,3])\n",
    "# varadd = var + 2\n",
    "varadd = np.add(var,2)\n",
    "print(varadd)"
   ]
  },
  {
   "cell_type": "code",
   "execution_count": null,
   "metadata": {},
   "outputs": [
    {
     "name": "stdout",
     "output_type": "stream",
     "text": [
      "[5 7 9]\n"
     ]
    }
   ],
   "source": [
    "var1 = np.array([1,2,3])\n",
    "var2 = np.array([4,5,6])\n",
    "#varadd = var1 + var2\n",
    "varadd = np.add(var1, var2)\n",
    "print(varadd)"
   ]
  },
  {
   "cell_type": "markdown",
   "metadata": {},
   "source": [
    "## Subtraction"
   ]
  },
  {
   "cell_type": "code",
   "execution_count": 4,
   "metadata": {},
   "outputs": [
    {
     "name": "stdout",
     "output_type": "stream",
     "text": [
      "[-1  0  1]\n"
     ]
    }
   ],
   "source": [
    "var = np.array([1,2,3])\n",
    "varadd = var - 2\n",
    "print(varadd)"
   ]
  },
  {
   "cell_type": "code",
   "execution_count": 5,
   "metadata": {},
   "outputs": [
    {
     "name": "stdout",
     "output_type": "stream",
     "text": [
      "[3 3 3]\n"
     ]
    }
   ],
   "source": [
    "var1 = np.array([1,2,3])\n",
    "var2 = np.array([4,5,6])\n",
    "varadd = var2 - var1\n",
    "print(varadd)"
   ]
  },
  {
   "cell_type": "markdown",
   "metadata": {},
   "source": [
    "#### Similarly we can perform other operation with numpy inbuilt functions"
   ]
  },
  {
   "cell_type": "code",
   "execution_count": null,
   "metadata": {},
   "outputs": [],
   "source": [
    "### a+b : np.add(a,b)\n",
    "### a-b : np.subtract(a,b)\n",
    "### a*b : np.multiply(a,b)\n",
    "### a/b : np.divide(a,b)\n",
    "### a%b : np.mod(a,b)\n",
    "### a**b : np.power(a,b)\n",
    "### 1/a : np.reciprocal(a)"
   ]
  },
  {
   "cell_type": "markdown",
   "metadata": {},
   "source": [
    "## Arithmetic operation in 2-d Array"
   ]
  },
  {
   "cell_type": "code",
   "execution_count": 14,
   "metadata": {},
   "outputs": [
    {
     "name": "stdout",
     "output_type": "stream",
     "text": [
      "[[1 2 3]\n",
      " [4 5 6]]\n",
      "\n",
      "[[ 7  8  9]\n",
      " [10 11 12]]\n",
      "\n",
      "[[ 8 10 12]\n",
      " [14 16 18]]\n"
     ]
    }
   ],
   "source": [
    "var21 = np.array([[1,2,3],[4,5,6]])\n",
    "var22 = np.array([[7,8,9],[10,11,12]])\n",
    "print(var21)\n",
    "print()\n",
    "print(var22)\n",
    "print()\n",
    "varadd = np.add(var21, var22)\n",
    "print(varadd)\n"
   ]
  },
  {
   "cell_type": "code",
   "execution_count": 23,
   "metadata": {},
   "outputs": [
    {
     "name": "stdout",
     "output_type": "stream",
     "text": [
      "min: 1\n",
      "max:6\n",
      "min: 0\n",
      "max:5\n",
      "sqrt : [1.         1.41421356 1.73205081 2.         2.23606798 2.44948974]\n"
     ]
    }
   ],
   "source": [
    "var31 = np.array([1,2,3,4,5,6])\n",
    "print(f\"min: {np.min(var31)}\")\n",
    "print(f\"max:{np.max(var31)}\")\n",
    "print(f\"min: {np.argmin(var31)}\") #Return index of min\n",
    "print(f\"max:{np.argmax(var31)}\") #Return index of max\n",
    "print(f\"sqrt : {np.sqrt(var31)}\")"
   ]
  },
  {
   "cell_type": "markdown",
   "metadata": {},
   "source": [
    "## 2-d array axis"
   ]
  },
  {
   "cell_type": "code",
   "execution_count": null,
   "metadata": {},
   "outputs": [
    {
     "name": "stdout",
     "output_type": "stream",
     "text": [
      "[0 0]\n",
      "[1 1 1]\n"
     ]
    }
   ],
   "source": [
    "var1 = np.array([[1,2,3],[4,5,6]]) ## index for 2-d array , axis = 0 for column and axis = 1 for row\n",
    "print(np.argmin(var1,axis = 1)) ## for axis = 1 it give 2 row's min\n",
    "print(np.argmax(var1,axis = 0)) \n"
   ]
  },
  {
   "cell_type": "code",
   "execution_count": null,
   "metadata": {},
   "outputs": [],
   "source": [
    "#np.cos(x)\n",
    "#np.sin(x)\n",
    "#np.tan(x)\n",
    "#np.cosh(x)\n",
    "#np.sinh(x)\n",
    "#np.tanh(x)"
   ]
  },
  {
   "cell_type": "markdown",
   "metadata": {},
   "source": [
    "## CUMSUM"
   ]
  },
  {
   "cell_type": "code",
   "execution_count": 29,
   "metadata": {},
   "outputs": [
    {
     "name": "stdout",
     "output_type": "stream",
     "text": [
      "[ 1  3  6 10]\n"
     ]
    }
   ],
   "source": [
    "import numpy as np\n",
    "\n",
    "arr = np.array([1, 2, 3, 4])\n",
    "result = np.cumsum(arr)\n",
    "print(result)  # Output: [ 1  3  6 10 ]\n"
   ]
  },
  {
   "cell_type": "markdown",
   "metadata": {},
   "source": [
    "#### 2-d Array"
   ]
  },
  {
   "cell_type": "code",
   "execution_count": 30,
   "metadata": {},
   "outputs": [
    {
     "name": "stdout",
     "output_type": "stream",
     "text": [
      "[ 1  3  6 10]\n",
      "[[1 2]\n",
      " [4 6]]\n",
      "[[1 3]\n",
      " [3 7]]\n"
     ]
    }
   ],
   "source": [
    "arr = np.array([[1, 2], [3, 4]])\n",
    "print(np.cumsum(arr))          # Flattened array: [ 1  3  6 10 ]\n",
    "print(np.cumsum(arr, axis=0))  # Column-wise: [[1 3]\n",
    "                               #               [3 7]]\n",
    "print(np.cumsum(arr, axis=1))  # Row-wise: [[1  3]\n",
    "                               #            [3  7]]\n"
   ]
  },
  {
   "cell_type": "markdown",
   "metadata": {},
   "source": [
    "## CUMPRODUCT"
   ]
  },
  {
   "cell_type": "markdown",
   "metadata": {},
   "source": [
    "#### syntax : numpy.cumprod(array, axis=None, dtype=None)\n"
   ]
  },
  {
   "cell_type": "code",
   "execution_count": 31,
   "metadata": {},
   "outputs": [
    {
     "name": "stdout",
     "output_type": "stream",
     "text": [
      "[ 1  2  6 24]\n"
     ]
    }
   ],
   "source": [
    "arr = np.array([1, 2, 3, 4])\n",
    "result = np.cumprod(arr)\n",
    "print(result)  # Output: [ 1  2  6 24 ]\n"
   ]
  },
  {
   "cell_type": "markdown",
   "metadata": {},
   "source": [
    "#### 2-d Array"
   ]
  },
  {
   "cell_type": "code",
   "execution_count": 32,
   "metadata": {},
   "outputs": [
    {
     "name": "stdout",
     "output_type": "stream",
     "text": [
      "[ 1  2  6 24]\n",
      "[[1 2]\n",
      " [3 8]]\n",
      "[[ 1  2]\n",
      " [ 3 12]]\n"
     ]
    }
   ],
   "source": [
    "arr = np.array([[1, 2], [3, 4]])\n",
    "print(np.cumprod(arr))          # Flattened array: [ 1  2  6 24 ]\n",
    "print(np.cumprod(arr, axis=0))  # Column-wise: [[1 3]\n",
    "                                #               [2 8]]\n",
    "print(np.cumprod(arr, axis=1))  # Row-wise: [[1  2]\n",
    "                                #            [3 12]]\n"
   ]
  }
 ],
 "metadata": {
  "kernelspec": {
   "display_name": "base",
   "language": "python",
   "name": "python3"
  },
  "language_info": {
   "codemirror_mode": {
    "name": "ipython",
    "version": 3
   },
   "file_extension": ".py",
   "mimetype": "text/x-python",
   "name": "python",
   "nbconvert_exporter": "python",
   "pygments_lexer": "ipython3",
   "version": "3.12.7"
  }
 },
 "nbformat": 4,
 "nbformat_minor": 2
}
