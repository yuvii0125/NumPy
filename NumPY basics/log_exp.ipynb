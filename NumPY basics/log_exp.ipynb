{
 "cells": [
  {
   "cell_type": "code",
   "execution_count": 1,
   "metadata": {},
   "outputs": [
    {
     "name": "stdout",
     "output_type": "stream",
     "text": [
      "Input array: [ 0  1  2 10]\n",
      "Exponential (e^x): [1.00000000e+00 2.71828183e+00 7.38905610e+00 2.20264658e+04]\n",
      "Exponential base 2 (2^x): [1.000e+00 2.000e+00 4.000e+00 1.024e+03]\n",
      "Power (3^x): [    1     3     9 59049]\n",
      "Natural log (ln): [0. 1. 2.]\n",
      "Log base 2 (log2): [0. 1. 2. 3.]\n",
      "Log base 10 (log10): [0. 1. 2. 3.]\n"
     ]
    }
   ],
   "source": [
    "import numpy as np\n",
    "\n",
    "# Example array\n",
    "arr = np.array([0, 1, 2, 10])\n",
    "\n",
    "# Exponential functions\n",
    "exp_result = np.exp(arr)       # e^x\n",
    "exp2_result = np.exp2(arr)     # 2^x\n",
    "power_result = np.power(3, arr)  # 3^x\n",
    "\n",
    "# Logarithmic functions\n",
    "log_result = np.log(np.array([1, np.e, np.e**2]))  # Natural log (ln)\n",
    "log2_result = np.log2(np.array([1, 2, 4, 8]))      # Base-2 log\n",
    "log10_result = np.log10(np.array([1, 10, 100, 1000]))  # Base-10 log\n",
    "\n",
    "# Displaying the results\n",
    "print(\"Input array:\", arr)\n",
    "print(\"Exponential (e^x):\", exp_result)\n",
    "print(\"Exponential base 2 (2^x):\", exp2_result)\n",
    "print(\"Power (3^x):\", power_result)\n",
    "print(\"Natural log (ln):\", log_result)\n",
    "print(\"Log base 2 (log2):\", log2_result)\n",
    "print(\"Log base 10 (log10):\", log10_result)\n"
   ]
  }
 ],
 "metadata": {
  "kernelspec": {
   "display_name": "base",
   "language": "python",
   "name": "python3"
  },
  "language_info": {
   "codemirror_mode": {
    "name": "ipython",
    "version": 3
   },
   "file_extension": ".py",
   "mimetype": "text/x-python",
   "name": "python",
   "nbconvert_exporter": "python",
   "pygments_lexer": "ipython3",
   "version": "3.12.7"
  }
 },
 "nbformat": 4,
 "nbformat_minor": 2
}
