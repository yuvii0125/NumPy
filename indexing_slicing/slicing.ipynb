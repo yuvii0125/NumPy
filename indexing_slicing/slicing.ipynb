{
 "cells": [
  {
   "cell_type": "markdown",
   "metadata": {},
   "source": [
    "## Basic Slicing"
   ]
  },
  {
   "cell_type": "markdown",
   "metadata": {},
   "source": [
    "##### array[start:end:step]\n"
   ]
  },
  {
   "cell_type": "code",
   "execution_count": 3,
   "metadata": {},
   "outputs": [
    {
     "name": "stdout",
     "output_type": "stream",
     "text": [
      "[20 30 40]\n",
      "[10 20 30]\n",
      "[10 30 50]\n",
      "[50 40 30 20 10]\n"
     ]
    }
   ],
   "source": [
    "import numpy as np\n",
    "\n",
    "arr = np.array([10, 20, 30, 40, 50])\n",
    "print(arr[1:4])    # Output: [20 30 40]\n",
    "print(arr[:3])     # Output: [10 20 30]\n",
    "print(arr[::2])    # Output: [10 30 50]\n",
    "print(arr[::-1])   # Output: [50 40 30 20 10] (reverse order)\n"
   ]
  },
  {
   "cell_type": "markdown",
   "metadata": {},
   "source": [
    "##### array[row_start:row_end, col_start:col_end]\n"
   ]
  },
  {
   "cell_type": "code",
   "execution_count": null,
   "metadata": {},
   "outputs": [],
   "source": [
    "arr_2d = np.array([[1, 2, 3],\n",
    "                   [4, 5, 6],\n",
    "                   [7, 8, 9]])\n",
    "\n",
    "print(arr_2d[0:2, 1:3])  # Output: [[2 3]\n",
    "                         #          [5 6]]\n",
    "\n",
    "print(arr_2d[:, 1])      # Output: [2 5 8] (all rows, second column)\n",
    "\n",
    "print(arr_2d[1, :])      # Output: [4 5 6] (second row, all columns)\n",
    "\n",
    "print(arr_2d[::2, ::2])  # Output: [[1 3]\n",
    "                         #          [7 9]] (skipping rows/columns)\n"
   ]
  },
  {
   "cell_type": "markdown",
   "metadata": {},
   "source": [
    "##  Slicing in Higher Dimensions"
   ]
  },
  {
   "cell_type": "code",
   "execution_count": 4,
   "metadata": {},
   "outputs": [
    {
     "name": "stdout",
     "output_type": "stream",
     "text": [
      "[[1 2]\n",
      " [3 4]]\n",
      "[ 4  8 12]\n"
     ]
    }
   ],
   "source": [
    "arr_3d = np.array([[[1, 2], [3, 4]],\n",
    "                   [[5, 6], [7, 8]],\n",
    "                   [[9, 10], [11, 12]]])\n",
    "\n",
    "print(arr_3d[0, :, :])  # Output: [[1 2]\n",
    "                        #          [3 4]] (first \"layer\")\n",
    "print(arr_3d[:, 1, 1])  # Output: [4 8 12] (specific element across layers)\n"
   ]
  },
  {
   "cell_type": "markdown",
   "metadata": {},
   "source": [
    "#### Slicing doesn't create a copy of the data; it creates a view. Modifying the slice will also modify the original array."
   ]
  },
  {
   "cell_type": "markdown",
   "metadata": {},
   "source": [
    "#### Boolean Indexing"
   ]
  },
  {
   "cell_type": "code",
   "execution_count": 4,
   "metadata": {},
   "outputs": [
    {
     "name": "stdout",
     "output_type": "stream",
     "text": [
      "[20 25 30]\n",
      "[3 4]\n"
     ]
    }
   ],
   "source": [
    "arr = np.array([10, 15, 20, 25, 30])\n",
    "mask = arr > 15\n",
    "print(arr[mask])       # [20 25 30] (elements > 15)\n",
    "\n",
    "arr_2d = np.array([[1, 2], [3, 4]])\n",
    "print(arr_2d[arr_2d > 2])  # [3 4] (flattened view of elements > 2)\n"
   ]
  }
 ],
 "metadata": {
  "kernelspec": {
   "display_name": "base",
   "language": "python",
   "name": "python3"
  },
  "language_info": {
   "codemirror_mode": {
    "name": "ipython",
    "version": 3
   },
   "file_extension": ".py",
   "mimetype": "text/x-python",
   "name": "python",
   "nbconvert_exporter": "python",
   "pygments_lexer": "ipython3",
   "version": "3.12.7"
  }
 },
 "nbformat": 4,
 "nbformat_minor": 2
}
