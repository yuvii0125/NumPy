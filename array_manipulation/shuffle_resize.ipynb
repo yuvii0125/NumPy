{
 "cells": [
  {
   "cell_type": "markdown",
   "metadata": {},
   "source": [
    "## Shuffle : numpy.random.shuffle(arr)"
   ]
  },
  {
   "cell_type": "markdown",
   "metadata": {},
   "source": [
    "##### Randomly shuffles the elements of an array in place along the first axis.\n",
    "##### Does not return a new array; modifies the original array."
   ]
  },
  {
   "cell_type": "code",
   "execution_count": 1,
   "metadata": {},
   "outputs": [
    {
     "name": "stdout",
     "output_type": "stream",
     "text": [
      "[4 1 2 3 5]\n"
     ]
    }
   ],
   "source": [
    "import numpy as np\n",
    "\n",
    "arr = np.array([1, 2, 3, 4, 5])\n",
    "np.random.shuffle(arr)\n",
    "print(arr)  # Example: [3, 1, 5, 2, 4]\n"
   ]
  },
  {
   "cell_type": "markdown",
   "metadata": {},
   "source": [
    "#### For multidimensional arrays, only the first axis is shuffled."
   ]
  },
  {
   "cell_type": "code",
   "execution_count": 2,
   "metadata": {},
   "outputs": [
    {
     "name": "stdout",
     "output_type": "stream",
     "text": [
      "[[3 4]\n",
      " [5 6]\n",
      " [1 2]]\n"
     ]
    }
   ],
   "source": [
    "arr = np.array([[1, 2], [3, 4], [5, 6]])\n",
    "np.random.shuffle(arr)\n",
    "print(arr)  # Rows are shuffled, e.g., [[5, 6], [1, 2], [3, 4]]\n"
   ]
  },
  {
   "cell_type": "markdown",
   "metadata": {},
   "source": [
    "### Unique : numpy.unique(arr, return_counts=False, return_index=False, return_inverse=False)"
   ]
  },
  {
   "cell_type": "markdown",
   "metadata": {},
   "source": [
    "#### Finds the unique elements in an array and optionally returns:\n",
    "#### return_counts: Count of each unique element.\n",
    "#### return_index: Indices of the first occurrences.\n",
    "#### return_inverse: Indices to reconstruct the original array."
   ]
  },
  {
   "cell_type": "code",
   "execution_count": 5,
   "metadata": {},
   "outputs": [
    {
     "name": "stdout",
     "output_type": "stream",
     "text": [
      "(array([1, 2, 3, 4, 5, 6, 7]), array([0, 1, 3, 4, 5, 8, 9]), array([0, 1, 1, 2, 3, 4, 4, 3, 5, 6, 5]), array([1, 2, 1, 2, 2, 2, 1]))\n"
     ]
    }
   ],
   "source": [
    "new_arr = np.array([1,2,2,3,4,5,5,4,6,7,6])\n",
    "unique = np.unique(new_arr,return_index=True,return_inverse=True,return_counts=True)\n",
    "print(unique)"
   ]
  },
  {
   "cell_type": "markdown",
   "metadata": {},
   "source": [
    "###  Resize\n",
    "### numpy.resize(arr, new_shape)\n",
    "### Returns a new array with the specified shape.\n",
    "### If the new size is larger, the array will repeat its elements."
   ]
  },
  {
   "cell_type": "code",
   "execution_count": 6,
   "metadata": {},
   "outputs": [
    {
     "name": "stdout",
     "output_type": "stream",
     "text": [
      "[[1 2 3 1]\n",
      " [2 3 1 2]]\n"
     ]
    }
   ],
   "source": [
    "arr = np.array([1, 2, 3])\n",
    "resized_arr = np.resize(arr, (2, 4))\n",
    "print(resized_arr)\n",
    "# [[1 2 3 1]\n",
    "#  [2 3 1 2]]\n"
   ]
  }
 ],
 "metadata": {
  "kernelspec": {
   "display_name": "base",
   "language": "python",
   "name": "python3"
  },
  "language_info": {
   "codemirror_mode": {
    "name": "ipython",
    "version": 3
   },
   "file_extension": ".py",
   "mimetype": "text/x-python",
   "name": "python",
   "nbconvert_exporter": "python",
   "pygments_lexer": "ipython3",
   "version": "3.12.7"
  }
 },
 "nbformat": 4,
 "nbformat_minor": 2
}
