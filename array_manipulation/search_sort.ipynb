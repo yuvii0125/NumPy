{
 "cells": [
  {
   "cell_type": "code",
   "execution_count": 2,
   "metadata": {},
   "outputs": [],
   "source": [
    "import numpy as np"
   ]
  },
  {
   "cell_type": "markdown",
   "metadata": {},
   "source": [
    "#### We use Where() function for searching a element"
   ]
  },
  {
   "cell_type": "code",
   "execution_count": 3,
   "metadata": {},
   "outputs": [
    {
     "name": "stdout",
     "output_type": "stream",
     "text": [
      "(array([0]),)\n",
      "(array([1, 5]),)\n"
     ]
    }
   ],
   "source": [
    "arr = np.array([1, 2, 3, 4, 5,2,3,4,5,6,6])\n",
    "x = np.where(arr == 1) \n",
    "y = np.where(arr == 2) # we can give conditions like where((var%2)==0)\n",
    "print(x)\n",
    "print(y)"
   ]
  },
  {
   "cell_type": "markdown",
   "metadata": {},
   "source": [
    "### . Sorting in NumPy : Sorting functions to arrange data in ascending order."
   ]
  },
  {
   "cell_type": "markdown",
   "metadata": {},
   "source": [
    "np.sort(arr) : Returns a sorted copy of the array. The original array remains unchanged."
   ]
  },
  {
   "cell_type": "code",
   "execution_count": 4,
   "metadata": {},
   "outputs": [
    {
     "name": "stdout",
     "output_type": "stream",
     "text": [
      "[10 20 30]\n"
     ]
    }
   ],
   "source": [
    "arr = np.array([30, 10, 20])\n",
    "sorted_arr = np.sort(arr)\n",
    "print(sorted_arr)  # [10 20 30]\n"
   ]
  },
  {
   "cell_type": "code",
   "execution_count": 16,
   "metadata": {},
   "outputs": [
    {
     "name": "stdout",
     "output_type": "stream",
     "text": [
      "[[1 2 3]\n",
      " [4 5 6]]\n"
     ]
    }
   ],
   "source": [
    "arr1 = np.array([[1,3,2],[4,6,5]])\n",
    "sorted_arr1 = np.sort(arr1,axis = 1) \n",
    "print(sorted_arr1)"
   ]
  },
  {
   "cell_type": "markdown",
   "metadata": {},
   "source": [
    "numpy.argsort() : Returns the indices that would sort the array."
   ]
  },
  {
   "cell_type": "code",
   "execution_count": 12,
   "metadata": {},
   "outputs": [
    {
     "name": "stdout",
     "output_type": "stream",
     "text": [
      "[1 2 0]\n"
     ]
    }
   ],
   "source": [
    "arr = np.array([30, 10, 20])\n",
    "sorted_indices = np.argsort(arr)\n",
    "print(sorted_indices)  # [1 2 0]\n"
   ]
  },
  {
   "cell_type": "code",
   "execution_count": 4,
   "metadata": {},
   "outputs": [
    {
     "name": "stdout",
     "output_type": "stream",
     "text": [
      "['a' 'b' 'c' 'd' 'f' 'k']\n"
     ]
    }
   ],
   "source": [
    "var2 = np.array([\"a\",\"c\",\"b\",\"k\" ,\"d\",\"f\"])\n",
    "sorted = np.sort(var2)\n",
    "print(sorted)\n"
   ]
  },
  {
   "cell_type": "markdown",
   "metadata": {},
   "source": [
    "##### Searching in a Sorted Array (searchsorted)\n",
    "##### a. numpy.searchsorted(sorted_arr, value, side='left')\n",
    "##### Finds indices where elements should be inserted to maintain order.\n",
    "##### side='left': Returns the first position.\n",
    "##### side='right': Returns the last position."
   ]
  },
  {
   "cell_type": "code",
   "execution_count": 3,
   "metadata": {},
   "outputs": [
    {
     "name": "stdout",
     "output_type": "stream",
     "text": [
      "2\n"
     ]
    }
   ],
   "source": [
    "sorted_arr = np.array([10, 20, 30, 40])\n",
    "index = np.searchsorted(sorted_arr, 25)\n",
    "print(index)  # 2\n"
   ]
  },
  {
   "cell_type": "code",
   "execution_count": null,
   "metadata": {},
   "outputs": [],
   "source": [
    "import numpy as np\n",
    "\n",
    "# Example 2D array (row-wise sorted)\n",
    "arr = np.array([\n",
    "    [10, 20, 30, 40],\n",
    "    [15, 25, 35, 45],\n",
    "    [27, 29, 37, 48],\n",
    "    [32, 33, 39, 50]\n",
    "])\n",
    "\n",
    "value = 29\n",
    "\n",
    "# Find the position of 'value' in each row\n",
    "positions = np.array([np.searchsorted(row, value, side='left') for row in arr])\n",
    "print(\"Positions (left):\", positions)\n",
    "\n",
    "# Find the positions with 'right' option\n",
    "positions_right = np.array([np.searchsorted(row, value, side='right') for row in arr])\n",
    "print(\"Positions (right):\", positions_right)\n"
   ]
  },
  {
   "cell_type": "markdown",
   "metadata": {},
   "source": [
    "## Filtering"
   ]
  },
  {
   "cell_type": "code",
   "execution_count": null,
   "metadata": {},
   "outputs": [
    {
     "name": "stdout",
     "output_type": "stream",
     "text": [
      "[20 40]\n"
     ]
    }
   ],
   "source": [
    "varn = np.array([10, 20, 30, 40])\n",
    "l = [False,True,False,True] #It gives only the value which is true\n",
    "filter = varn[l]\n",
    "print(filter)\n"
   ]
  },
  {
   "cell_type": "markdown",
   "metadata": {},
   "source": [
    "#### numpy.isin(element, test_elements) : Checks if elements in the array belong to a set of values"
   ]
  },
  {
   "cell_type": "code",
   "execution_count": null,
   "metadata": {},
   "outputs": [
    {
     "name": "stdout",
     "output_type": "stream",
     "text": [
      "[ True False  True False]\n"
     ]
    }
   ],
   "source": [
    "arr = np.array([10, 20, 30, 40])\n",
    "mask = np.isin(arr, [10, 30])\n",
    "print(mask)  # [ True False  True False]"
   ]
  }
 ],
 "metadata": {
  "kernelspec": {
   "display_name": "base",
   "language": "python",
   "name": "python3"
  },
  "language_info": {
   "codemirror_mode": {
    "name": "ipython",
    "version": 3
   },
   "file_extension": ".py",
   "mimetype": "text/x-python",
   "name": "python",
   "nbconvert_exporter": "python",
   "pygments_lexer": "ipython3",
   "version": "3.12.7"
  }
 },
 "nbformat": 4,
 "nbformat_minor": 2
}
