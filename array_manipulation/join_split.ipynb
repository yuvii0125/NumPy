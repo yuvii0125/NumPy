{
 "cells": [
  {
   "cell_type": "markdown",
   "metadata": {},
   "source": [
    "### Join Array"
   ]
  },
  {
   "cell_type": "markdown",
   "metadata": {},
   "source": [
    "### np.concatenate : Joins arrays along an existing axis."
   ]
  },
  {
   "cell_type": "markdown",
   "metadata": {},
   "source": [
    "#### syntax : np.concatenate((array1, array2, ...), axis=0)"
   ]
  },
  {
   "cell_type": "code",
   "execution_count": 3,
   "metadata": {},
   "outputs": [
    {
     "name": "stdout",
     "output_type": "stream",
     "text": [
      "[1 2 3 4 5 2 3 4 5 6]\n"
     ]
    }
   ],
   "source": [
    "import numpy as np\n",
    "array = np.array([1, 2, 3, 4, 5])\n",
    "var1 = np.array([2,3,4,5,6])\n",
    "\n",
    "ar = np.concatenate((array, var1))\n",
    "print(ar)"
   ]
  },
  {
   "cell_type": "code",
   "execution_count": 4,
   "metadata": {},
   "outputs": [
    {
     "name": "stdout",
     "output_type": "stream",
     "text": [
      "[[ 1  2  3  7  8  9]\n",
      " [ 4  5  6 10 11 12]]\n"
     ]
    }
   ],
   "source": [
    "arr1 = np.array([[1,2,3],[4,5,6]])\n",
    "arr2 = np.array([[7,8,9],[10,11,12]])\n",
    "\n",
    "ar3 = np.concatenate((arr1,arr2),axis=1)\n",
    "print(ar3)"
   ]
  },
  {
   "cell_type": "markdown",
   "metadata": {},
   "source": [
    "### np.stack : Joins arrays along a new axis."
   ]
  },
  {
   "cell_type": "markdown",
   "metadata": {},
   "source": [
    "#### np.stack((array1, array2, ...), axis=0)\n"
   ]
  },
  {
   "cell_type": "code",
   "execution_count": null,
   "metadata": {},
   "outputs": [
    {
     "name": "stdout",
     "output_type": "stream",
     "text": [
      "[[1 2 3]\n",
      " [4 5 6]]\n"
     ]
    }
   ],
   "source": [
    "arr1 = np.array([1, 2, 3])\n",
    "arr2 = np.array([4, 5, 6])\n",
    "\n",
    "result = np.stack((arr1, arr2), axis=0)  # axis = 0 means vertical stacking\n",
    "print(result)\n",
    "# Output:\n",
    "# [[1 2 3]\n",
    "#  [4 5 6]]\n"
   ]
  },
  {
   "cell_type": "markdown",
   "metadata": {},
   "source": [
    " #### np.hstack : Stacks arrays horizontally (along columns)."
   ]
  },
  {
   "cell_type": "code",
   "execution_count": 8,
   "metadata": {},
   "outputs": [
    {
     "name": "stdout",
     "output_type": "stream",
     "text": [
      "[1 2 3 4 5 6]\n",
      "[[1 2 5 6]\n",
      " [3 4 7 8]]\n"
     ]
    }
   ],
   "source": [
    "arr1 = np.array([1, 2, 3])\n",
    "arr2 = np.array([4, 5, 6])\n",
    "\n",
    "result = np.hstack((arr1, arr2))\n",
    "print(result)  # Output: [1 2 3 4 5 6]\n",
    "\n",
    "ar1 = np.array([[1, 2], [3, 4]])\n",
    "ar2 = np.array([[5, 6], [7, 8]])\n",
    "\n",
    "result = np.hstack((ar1, ar2))\n",
    "print(result)\n",
    "# Output:\n",
    "# [[1 2 5 6]\n",
    "#  [3 4 7 8]]\n"
   ]
  },
  {
   "cell_type": "markdown",
   "metadata": {},
   "source": [
    "#### np.vstack : Stacks arrays vertically (along rows)."
   ]
  },
  {
   "cell_type": "code",
   "execution_count": 9,
   "metadata": {},
   "outputs": [
    {
     "name": "stdout",
     "output_type": "stream",
     "text": [
      "[[1 2 3]\n",
      " [4 5 6]]\n",
      "[[1 2]\n",
      " [3 4]\n",
      " [5 6]\n",
      " [7 8]]\n"
     ]
    }
   ],
   "source": [
    "arr1 = np.array([1, 2, 3])\n",
    "arr2 = np.array([4, 5, 6])\n",
    "\n",
    "result = np.vstack((arr1, arr2))\n",
    "print(result)\n",
    "# Output:\n",
    "# [[1 2 3]\n",
    "#  [4 5 6]]\n",
    "\n",
    "ar1 = np.array([[1, 2], [3, 4]])\n",
    "ar2 = np.array([[5, 6], [7, 8]])\n",
    "\n",
    "result = np.vstack((ar1, ar2))\n",
    "print(result)\n",
    "\n"
   ]
  },
  {
   "cell_type": "markdown",
   "metadata": {},
   "source": [
    "#### np.dstack : Stacks arrays along the third dimension.(height)"
   ]
  },
  {
   "cell_type": "code",
   "execution_count": 12,
   "metadata": {},
   "outputs": [
    {
     "name": "stdout",
     "output_type": "stream",
     "text": [
      "[[[1 4]\n",
      "  [2 5]\n",
      "  [3 6]]]\n",
      "[[[1 5]\n",
      "  [2 6]]\n",
      "\n",
      " [[3 7]\n",
      "  [4 8]]]\n"
     ]
    }
   ],
   "source": [
    "arr1 = np.array([1, 2, 3])\n",
    "arr2 = np.array([4, 5, 6])\n",
    "\n",
    "result = np.dstack((arr1, arr2))\n",
    "print(result)\n",
    "# Output:\n",
    "# [[[1 4]\n",
    "#   [2 5]\n",
    "#   [3 6]]]\n",
    "\n",
    "ar1 = np.array([[1, 2], [3, 4]])\n",
    "ar2 = np.array([[5, 6], [7, 8]])\n",
    "\n",
    "result = np.dstack((ar1, ar2))\n",
    "print(result)\n",
    "# Output:\n",
    "# [[[1 5]\n",
    "#   [2 6]\n",
    "#   [3 7]\n",
    "#   [4 8]]]"
   ]
  },
  {
   "cell_type": "markdown",
   "metadata": {},
   "source": [
    "## Spliting array"
   ]
  },
  {
   "cell_type": "code",
   "execution_count": 29,
   "metadata": {},
   "outputs": [
    {
     "name": "stdout",
     "output_type": "stream",
     "text": [
      "[1 2 3 4]\n",
      "[array([1]), array([2]), array([3]), array([4]), array([], dtype=int64), array([], dtype=int64), array([], dtype=int64)]\n",
      "[[1 2 3]\n",
      " [4 5 6]]\n",
      "[array([[1, 2, 3]]), array([[4, 5, 6]])] <class 'list'>\n"
     ]
    }
   ],
   "source": [
    "var = np.array([1,2,3,4])\n",
    "print(var)\n",
    "ar = np.array_split(var,7) # if we want to split the array into parts more than size it will give some empty array\n",
    "print(ar)\n",
    "\n",
    "var1 = np.array([[1,2,3],[4,5,6]])\n",
    "print(var1)\n",
    "ar1 = np.array_split(var1,2) #Type of spliited array is list\n",
    "print(ar1,type(ar1))"
   ]
  },
  {
   "cell_type": "markdown",
   "metadata": {},
   "source": [
    "#### np.hsplit : Splits an array horizontally (along columns)."
   ]
  },
  {
   "cell_type": "code",
   "execution_count": 30,
   "metadata": {},
   "outputs": [
    {
     "name": "stdout",
     "output_type": "stream",
     "text": [
      "[array([[1],\n",
      "       [4]]), array([[2],\n",
      "       [5]]), array([[3],\n",
      "       [6]])]\n"
     ]
    }
   ],
   "source": [
    "arr = np.array([[1, 2, 3], [4, 5, 6]])\n",
    "\n",
    "result = np.hsplit(arr, 3)\n",
    "print(result)\n",
    "# Output:\n",
    "# [array([[1],\n",
    "#        [4]]), array([[2],\n",
    "#        [5]]), array([[3],\n",
    "#        [6]])]\n"
   ]
  },
  {
   "cell_type": "markdown",
   "metadata": {},
   "source": [
    "#### np.vsplit:Splits an array vertically (along rows)."
   ]
  },
  {
   "cell_type": "code",
   "execution_count": 31,
   "metadata": {},
   "outputs": [
    {
     "name": "stdout",
     "output_type": "stream",
     "text": [
      "[array([[1, 2, 3]]), array([[4, 5, 6]])]\n"
     ]
    }
   ],
   "source": [
    "arr = np.array([[1, 2, 3], [4, 5, 6]])\n",
    "\n",
    "result = np.vsplit(arr, 2)\n",
    "print(result)\n",
    "# Output:\n",
    "# [array([[1, 2, 3]]), array([[4, 5, 6]])]\n"
   ]
  },
  {
   "cell_type": "markdown",
   "metadata": {},
   "source": [
    "#### np.dsplit : Splits an array along the third dimension."
   ]
  },
  {
   "cell_type": "code",
   "execution_count": 32,
   "metadata": {},
   "outputs": [
    {
     "name": "stdout",
     "output_type": "stream",
     "text": [
      "[array([[[1],\n",
      "        [3]],\n",
      "\n",
      "       [[5],\n",
      "        [7]]]), array([[[2],\n",
      "        [4]],\n",
      "\n",
      "       [[6],\n",
      "        [8]]])]\n"
     ]
    }
   ],
   "source": [
    "arr = np.array([[[1, 2], [3, 4]], [[5, 6], [7, 8]]])\n",
    "\n",
    "result = np.dsplit(arr, 2)\n",
    "print(result)\n",
    "# Output:\n",
    "# [array([[[1],\n",
    "#         [3]],\n",
    "#\n",
    "#        [[5],\n",
    "#         [7]]]), array([[[2],\n",
    "#         [4]],\n",
    "#\n",
    "#        [[6],\n",
    "#         [8]]])]\n"
   ]
  }
 ],
 "metadata": {
  "kernelspec": {
   "display_name": "base",
   "language": "python",
   "name": "python3"
  },
  "language_info": {
   "codemirror_mode": {
    "name": "ipython",
    "version": 3
   },
   "file_extension": ".py",
   "mimetype": "text/x-python",
   "name": "python",
   "nbconvert_exporter": "python",
   "pygments_lexer": "ipython3",
   "version": "3.12.7"
  }
 },
 "nbformat": 4,
 "nbformat_minor": 2
}
