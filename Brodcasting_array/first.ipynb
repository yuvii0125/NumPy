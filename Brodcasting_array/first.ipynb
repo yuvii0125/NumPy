{
 "cells": [
  {
   "cell_type": "code",
   "execution_count": 2,
   "metadata": {},
   "outputs": [],
   "source": [
    "import numpy as np\n",
    "\n",
    "var1 = np.array([1,2,3])\n",
    "var2 = np.array([4,5,6,7])\n",
    "\n",
    "#Here we can't do the sum operation"
   ]
  },
  {
   "cell_type": "markdown",
   "metadata": {},
   "source": [
    "######  If the arrays do not have the same rank (number of dimensions), prepend dimensions of size 1 to the smaller array until the ranks match.\n",
    "###### Compare dimensions from right to left:\n",
    "###### If dimensions are equal or one of them is 1, they are compatible.\n",
    "###### Otherwise, they are incompatible, and broadcasting fails."
   ]
  },
  {
   "cell_type": "code",
   "execution_count": 3,
   "metadata": {},
   "outputs": [
    {
     "name": "stdout",
     "output_type": "stream",
     "text": [
      "Array a:\n",
      "[[1 2 3]\n",
      " [4 5 6]]\n",
      "\n",
      "Array b:\n",
      "[10 20 30]\n",
      "\n",
      "Result of a + b:\n",
      "[[11 22 33]\n",
      " [14 25 36]]\n"
     ]
    }
   ],
   "source": [
    "# Define a 2D array\n",
    "a = np.array([[1, 2, 3],\n",
    "              [4, 5, 6]])\n",
    "\n",
    "# Define a 1D array\n",
    "b = np.array([10, 20, 30])\n",
    "\n",
    "# Broadcasting adds 'b' to each row of 'a'\n",
    "result = a + b\n",
    "\n",
    "print(\"Array a:\")\n",
    "print(a)\n",
    "print(\"\\nArray b:\")\n",
    "print(b)\n",
    "print(\"\\nResult of a + b:\")\n",
    "print(result)\n"
   ]
  }
 ],
 "metadata": {
  "kernelspec": {
   "display_name": "base",
   "language": "python",
   "name": "python3"
  },
  "language_info": {
   "codemirror_mode": {
    "name": "ipython",
    "version": 3
   },
   "file_extension": ".py",
   "mimetype": "text/x-python",
   "name": "python",
   "nbconvert_exporter": "python",
   "pygments_lexer": "ipython3",
   "version": "3.12.7"
  }
 },
 "nbformat": 4,
 "nbformat_minor": 2
}
